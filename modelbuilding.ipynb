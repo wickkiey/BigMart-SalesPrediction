{
 "cells": [
  {
   "cell_type": "code",
   "execution_count": 1,
   "metadata": {},
   "outputs": [],
   "source": [
    "import pandas as pd\n",
    "import numpy as np\n",
    "import seaborn as sns\n",
    "import matplotlib.pyplot as plt\n",
    "import category_encoders as ce"
   ]
  },
  {
   "cell_type": "code",
   "execution_count": 2,
   "metadata": {},
   "outputs": [],
   "source": [
    "from sklearn.impute import KNNImputer\n",
    "from sklearn.model_selection import cross_val_score\n",
    "from sklearn.ensemble import RandomForestClassifier, RandomForestRegressor"
   ]
  },
  {
   "cell_type": "code",
   "execution_count": 3,
   "metadata": {},
   "outputs": [],
   "source": [
    "\n",
    "train = pd.read_csv(\"data/train1.csv\")\n",
    "test = pd.read_csv('data/test1.csv')\n",
    "sub = pd.read_csv('data/sample.csv')"
   ]
  },
  {
   "cell_type": "code",
   "execution_count": 4,
   "metadata": {},
   "outputs": [
    {
     "data": {
      "text/plain": [
       "Index(['Item_Identifier', 'Item_Weight', 'Item_Fat_Content', 'Item_Visibility',\n",
       "       'Item_Type', 'Item_MRP', 'Outlet_Identifier',\n",
       "       'Outlet_Establishment_Year', 'Outlet_Size', 'Outlet_Location_Type',\n",
       "       'Outlet_Type', 'Item_Outlet_Sales'],\n",
       "      dtype='object')"
      ]
     },
     "execution_count": 4,
     "metadata": {},
     "output_type": "execute_result"
    }
   ],
   "source": [
    "train.columns"
   ]
  },
  {
   "cell_type": "code",
   "execution_count": 5,
   "metadata": {},
   "outputs": [],
   "source": [
    "import h2o\n",
    "from h2o.automl import H2OAutoML"
   ]
  },
  {
   "cell_type": "code",
   "execution_count": 6,
   "metadata": {},
   "outputs": [
    {
     "name": "stdout",
     "output_type": "stream",
     "text": [
      "Checking whether there is an H2O instance running at http://localhost:54321 ..... not found.\n",
      "Attempting to start a local H2O server...\n",
      "; Java HotSpot(TM) 64-Bit Server VM (build 25.331-b09, mixed mode)\n",
      "  Starting server from C:\\Users\\Wickkiey\\anaconda3\\envs\\gpu\\Lib\\site-packages\\h2o\\backend\\bin\\h2o.jar\n",
      "  Ice root: C:\\Users\\Wickkiey\\AppData\\Local\\Temp\\tmpy0yj_jwq\n",
      "  JVM stdout: C:\\Users\\Wickkiey\\AppData\\Local\\Temp\\tmpy0yj_jwq\\h2o_Wickkiey_started_from_python.out\n",
      "  JVM stderr: C:\\Users\\Wickkiey\\AppData\\Local\\Temp\\tmpy0yj_jwq\\h2o_Wickkiey_started_from_python.err\n",
      "  Server is running at http://127.0.0.1:54321\n",
      "Connecting to H2O server at http://127.0.0.1:54321 ... successful.\n"
     ]
    },
    {
     "data": {
      "text/html": [
       "<div style=\"overflow:auto\"><table style=\"width:50%\"><tr><td>H2O_cluster_uptime:</td>\n",
       "<td>03 secs</td></tr>\n",
       "<tr><td>H2O_cluster_timezone:</td>\n",
       "<td>Asia/Kolkata</td></tr>\n",
       "<tr><td>H2O_data_parsing_timezone:</td>\n",
       "<td>UTC</td></tr>\n",
       "<tr><td>H2O_cluster_version:</td>\n",
       "<td>3.36.1.1</td></tr>\n",
       "<tr><td>H2O_cluster_version_age:</td>\n",
       "<td>29 days </td></tr>\n",
       "<tr><td>H2O_cluster_name:</td>\n",
       "<td>H2O_from_python_Wickkiey_kghf7x</td></tr>\n",
       "<tr><td>H2O_cluster_total_nodes:</td>\n",
       "<td>1</td></tr>\n",
       "<tr><td>H2O_cluster_free_memory:</td>\n",
       "<td>3.531 Gb</td></tr>\n",
       "<tr><td>H2O_cluster_total_cores:</td>\n",
       "<td>8</td></tr>\n",
       "<tr><td>H2O_cluster_allowed_cores:</td>\n",
       "<td>8</td></tr>\n",
       "<tr><td>H2O_cluster_status:</td>\n",
       "<td>locked, healthy</td></tr>\n",
       "<tr><td>H2O_connection_url:</td>\n",
       "<td>http://127.0.0.1:54321</td></tr>\n",
       "<tr><td>H2O_connection_proxy:</td>\n",
       "<td>{\"http\": null, \"https\": null}</td></tr>\n",
       "<tr><td>H2O_internal_security:</td>\n",
       "<td>False</td></tr>\n",
       "<tr><td>Python_version:</td>\n",
       "<td>3.8.8 final</td></tr></table></div>"
      ],
      "text/plain": [
       "--------------------------  -------------------------------\n",
       "H2O_cluster_uptime:         03 secs\n",
       "H2O_cluster_timezone:       Asia/Kolkata\n",
       "H2O_data_parsing_timezone:  UTC\n",
       "H2O_cluster_version:        3.36.1.1\n",
       "H2O_cluster_version_age:    29 days\n",
       "H2O_cluster_name:           H2O_from_python_Wickkiey_kghf7x\n",
       "H2O_cluster_total_nodes:    1\n",
       "H2O_cluster_free_memory:    3.531 Gb\n",
       "H2O_cluster_total_cores:    8\n",
       "H2O_cluster_allowed_cores:  8\n",
       "H2O_cluster_status:         locked, healthy\n",
       "H2O_connection_url:         http://127.0.0.1:54321\n",
       "H2O_connection_proxy:       {\"http\": null, \"https\": null}\n",
       "H2O_internal_security:      False\n",
       "Python_version:             3.8.8 final\n",
       "--------------------------  -------------------------------"
      ]
     },
     "metadata": {},
     "output_type": "display_data"
    }
   ],
   "source": [
    "h2o.init()"
   ]
  },
  {
   "cell_type": "code",
   "execution_count": 18,
   "metadata": {},
   "outputs": [
    {
     "name": "stdout",
     "output_type": "stream",
     "text": [
      "Parse progress: |████████████████████████████████████████████████████████████████| (done) 100%\n",
      "Parse progress: |████████████████████████████████████████████████████████████████| (done) 100%\n"
     ]
    }
   ],
   "source": [
    "train_h2o = h2o.H2OFrame(train)\n",
    "test_h2o = h2o.H2OFrame(test)"
   ]
  },
  {
   "cell_type": "code",
   "execution_count": 8,
   "metadata": {},
   "outputs": [],
   "source": [
    "y = 'Item_Outlet_Sales'\n",
    "x = train_h2o.names\n",
    "x.remove(y)"
   ]
  },
  {
   "cell_type": "code",
   "execution_count": 9,
   "metadata": {},
   "outputs": [
    {
     "name": "stdout",
     "output_type": "stream",
     "text": [
      "AutoML progress: |\n",
      "14:54:00.139: AutoML: XGBoost is not available; skipping it.\n",
      "\n",
      "███████████████████████████████████████████████████████████████| (done) 100%\n",
      "Model Details\n",
      "=============\n",
      "H2OStackedEnsembleEstimator :  Stacked Ensemble\n",
      "Model Key:  StackedEnsemble_AllModels_1_AutoML_1_20220513_145400\n",
      "\n",
      "No model summary for this model\n",
      "\n",
      "ModelMetricsRegressionGLM: stackedensemble\n",
      "** Reported on train data. **\n",
      "\n",
      "MSE: 564558.3565606193\n",
      "RMSE: 751.3709846411554\n",
      "MAE: 524.4007740834758\n",
      "RMSLE: 0.4107127814240764\n",
      "R^2: 0.8061135722494945\n",
      "Mean Residual Deviance: 564558.3565606193\n",
      "Null degrees of freedom: 8522\n",
      "Residual degrees of freedom: 8518\n",
      "Null deviance: 24817265080.348316\n",
      "Residual deviance: 4811730872.966159\n",
      "AIC: 137076.12540942448\n",
      "\n",
      "ModelMetricsRegressionGLM: stackedensemble\n",
      "** Reported on cross-validation data. **\n",
      "\n",
      "MSE: 1190569.8964397951\n",
      "RMSE: 1091.1323918021108\n",
      "MAE: 765.7814137612467\n",
      "RMSLE: 0.5453948109041619\n",
      "R^2: 0.5911222612764228\n",
      "Mean Residual Deviance: 1190569.8964397951\n",
      "Null degrees of freedom: 8522\n",
      "Residual degrees of freedom: 8518\n",
      "Null deviance: 24819624458.722992\n",
      "Residual deviance: 10147227227.356375\n",
      "AIC: 143435.50748574888\n",
      "\n",
      "Cross-Validation Metrics Summary: \n"
     ]
    },
    {
     "data": {
      "text/html": [
       "<div>\n",
       "<style scoped>\n",
       "    .dataframe tbody tr th:only-of-type {\n",
       "        vertical-align: middle;\n",
       "    }\n",
       "\n",
       "    .dataframe tbody tr th {\n",
       "        vertical-align: top;\n",
       "    }\n",
       "\n",
       "    .dataframe thead th {\n",
       "        text-align: right;\n",
       "    }\n",
       "</style>\n",
       "<table border=\"1\" class=\"dataframe\">\n",
       "  <thead>\n",
       "    <tr style=\"text-align: right;\">\n",
       "      <th></th>\n",
       "      <th></th>\n",
       "      <th>mean</th>\n",
       "      <th>sd</th>\n",
       "      <th>cv_1_valid</th>\n",
       "      <th>cv_2_valid</th>\n",
       "      <th>cv_3_valid</th>\n",
       "      <th>cv_4_valid</th>\n",
       "      <th>cv_5_valid</th>\n",
       "    </tr>\n",
       "  </thead>\n",
       "  <tbody>\n",
       "    <tr>\n",
       "      <th>0</th>\n",
       "      <td>mae</td>\n",
       "      <td>7.657575e+02</td>\n",
       "      <td>1.702178e+01</td>\n",
       "      <td>7.617167e+02</td>\n",
       "      <td>7.453249e+02</td>\n",
       "      <td>7.909097e+02</td>\n",
       "      <td>7.722109e+02</td>\n",
       "      <td>7.586255e+02</td>\n",
       "    </tr>\n",
       "    <tr>\n",
       "      <th>1</th>\n",
       "      <td>mean_residual_deviance</td>\n",
       "      <td>1.190409e+06</td>\n",
       "      <td>4.838607e+04</td>\n",
       "      <td>1.176288e+06</td>\n",
       "      <td>1.126726e+06</td>\n",
       "      <td>1.259386e+06</td>\n",
       "      <td>1.207337e+06</td>\n",
       "      <td>1.182308e+06</td>\n",
       "    </tr>\n",
       "    <tr>\n",
       "      <th>2</th>\n",
       "      <td>mse</td>\n",
       "      <td>1.190409e+06</td>\n",
       "      <td>4.838607e+04</td>\n",
       "      <td>1.176288e+06</td>\n",
       "      <td>1.126726e+06</td>\n",
       "      <td>1.259386e+06</td>\n",
       "      <td>1.207337e+06</td>\n",
       "      <td>1.182308e+06</td>\n",
       "    </tr>\n",
       "    <tr>\n",
       "      <th>3</th>\n",
       "      <td>null_deviance</td>\n",
       "      <td>4.963925e+09</td>\n",
       "      <td>2.754540e+08</td>\n",
       "      <td>5.154757e+09</td>\n",
       "      <td>4.709137e+09</td>\n",
       "      <td>5.301692e+09</td>\n",
       "      <td>4.986066e+09</td>\n",
       "      <td>4.667971e+09</td>\n",
       "    </tr>\n",
       "    <tr>\n",
       "      <th>4</th>\n",
       "      <td>r2</td>\n",
       "      <td>5.911270e-01</td>\n",
       "      <td>7.715331e-03</td>\n",
       "      <td>5.956057e-01</td>\n",
       "      <td>5.913329e-01</td>\n",
       "      <td>5.906012e-01</td>\n",
       "      <td>5.788231e-01</td>\n",
       "      <td>5.992721e-01</td>\n",
       "    </tr>\n",
       "    <tr>\n",
       "      <th>5</th>\n",
       "      <td>residual_deviance</td>\n",
       "      <td>2.029492e+09</td>\n",
       "      <td>1.261262e+08</td>\n",
       "      <td>2.084381e+09</td>\n",
       "      <td>1.924448e+09</td>\n",
       "      <td>2.168662e+09</td>\n",
       "      <td>2.099559e+09</td>\n",
       "      <td>1.870411e+09</td>\n",
       "    </tr>\n",
       "    <tr>\n",
       "      <th>6</th>\n",
       "      <td>rmse</td>\n",
       "      <td>1.090879e+03</td>\n",
       "      <td>2.214764e+01</td>\n",
       "      <td>1.084568e+03</td>\n",
       "      <td>1.061474e+03</td>\n",
       "      <td>1.122224e+03</td>\n",
       "      <td>1.098789e+03</td>\n",
       "      <td>1.087340e+03</td>\n",
       "    </tr>\n",
       "    <tr>\n",
       "      <th>7</th>\n",
       "      <td>rmsle</td>\n",
       "      <td>5.457228e-01</td>\n",
       "      <td>9.457544e-03</td>\n",
       "      <td>5.388344e-01</td>\n",
       "      <td>5.345266e-01</td>\n",
       "      <td>5.588630e-01</td>\n",
       "      <td>5.479861e-01</td>\n",
       "      <td>5.484039e-01</td>\n",
       "    </tr>\n",
       "  </tbody>\n",
       "</table>\n",
       "</div>"
      ],
      "text/plain": [
       "                                   mean            sd    cv_1_valid  \\\n",
       "0                     mae  7.657575e+02  1.702178e+01  7.617167e+02   \n",
       "1  mean_residual_deviance  1.190409e+06  4.838607e+04  1.176288e+06   \n",
       "2                     mse  1.190409e+06  4.838607e+04  1.176288e+06   \n",
       "3           null_deviance  4.963925e+09  2.754540e+08  5.154757e+09   \n",
       "4                      r2  5.911270e-01  7.715331e-03  5.956057e-01   \n",
       "5       residual_deviance  2.029492e+09  1.261262e+08  2.084381e+09   \n",
       "6                    rmse  1.090879e+03  2.214764e+01  1.084568e+03   \n",
       "7                   rmsle  5.457228e-01  9.457544e-03  5.388344e-01   \n",
       "\n",
       "     cv_2_valid    cv_3_valid    cv_4_valid    cv_5_valid  \n",
       "0  7.453249e+02  7.909097e+02  7.722109e+02  7.586255e+02  \n",
       "1  1.126726e+06  1.259386e+06  1.207337e+06  1.182308e+06  \n",
       "2  1.126726e+06  1.259386e+06  1.207337e+06  1.182308e+06  \n",
       "3  4.709137e+09  5.301692e+09  4.986066e+09  4.667971e+09  \n",
       "4  5.913329e-01  5.906012e-01  5.788231e-01  5.992721e-01  \n",
       "5  1.924448e+09  2.168662e+09  2.099559e+09  1.870411e+09  \n",
       "6  1.061474e+03  1.122224e+03  1.098789e+03  1.087340e+03  \n",
       "7  5.345266e-01  5.588630e-01  5.479861e-01  5.484039e-01  "
      ]
     },
     "metadata": {},
     "output_type": "display_data"
    },
    {
     "data": {
      "text/plain": []
     },
     "execution_count": 9,
     "metadata": {},
     "output_type": "execute_result"
    }
   ],
   "source": [
    "aml = H2OAutoML(max_models=7, seed=1)\n",
    "aml.train(x=x, y=y, training_frame=train_h2o)"
   ]
  },
  {
   "cell_type": "code",
   "execution_count": 10,
   "metadata": {},
   "outputs": [
    {
     "name": "stdout",
     "output_type": "stream",
     "text": [
      "stackedensemble prediction progress: |███████████████████████████████████████████| (done) 100%\n"
     ]
    }
   ],
   "source": [
    "pred = aml.leader.predict(test_h2o)"
   ]
  },
  {
   "cell_type": "code",
   "execution_count": 19,
   "metadata": {},
   "outputs": [],
   "source": [
    "test_h2o['Item_Outlet_Sales'] = pred['predict']"
   ]
  },
  {
   "cell_type": "code",
   "execution_count": 20,
   "metadata": {},
   "outputs": [
    {
     "data": {
      "text/html": [
       "<div>\n",
       "<style scoped>\n",
       "    .dataframe tbody tr th:only-of-type {\n",
       "        vertical-align: middle;\n",
       "    }\n",
       "\n",
       "    .dataframe tbody tr th {\n",
       "        vertical-align: top;\n",
       "    }\n",
       "\n",
       "    .dataframe thead th {\n",
       "        text-align: right;\n",
       "    }\n",
       "</style>\n",
       "<table border=\"1\" class=\"dataframe\">\n",
       "  <thead>\n",
       "    <tr style=\"text-align: right;\">\n",
       "      <th></th>\n",
       "      <th>Item_Identifier</th>\n",
       "      <th>Outlet_Identifier</th>\n",
       "      <th>Item_Outlet_Sales</th>\n",
       "    </tr>\n",
       "  </thead>\n",
       "  <tbody>\n",
       "    <tr>\n",
       "      <th>0</th>\n",
       "      <td>FDW58</td>\n",
       "      <td>OUT049</td>\n",
       "      <td>1000</td>\n",
       "    </tr>\n",
       "    <tr>\n",
       "      <th>1</th>\n",
       "      <td>FDW14</td>\n",
       "      <td>OUT017</td>\n",
       "      <td>1000</td>\n",
       "    </tr>\n",
       "    <tr>\n",
       "      <th>2</th>\n",
       "      <td>NCN55</td>\n",
       "      <td>OUT010</td>\n",
       "      <td>1000</td>\n",
       "    </tr>\n",
       "    <tr>\n",
       "      <th>3</th>\n",
       "      <td>FDQ58</td>\n",
       "      <td>OUT017</td>\n",
       "      <td>1000</td>\n",
       "    </tr>\n",
       "    <tr>\n",
       "      <th>4</th>\n",
       "      <td>FDY38</td>\n",
       "      <td>OUT027</td>\n",
       "      <td>1000</td>\n",
       "    </tr>\n",
       "  </tbody>\n",
       "</table>\n",
       "</div>"
      ],
      "text/plain": [
       "  Item_Identifier Outlet_Identifier  Item_Outlet_Sales\n",
       "0           FDW58            OUT049               1000\n",
       "1           FDW14            OUT017               1000\n",
       "2           NCN55            OUT010               1000\n",
       "3           FDQ58            OUT017               1000\n",
       "4           FDY38            OUT027               1000"
      ]
     },
     "execution_count": 20,
     "metadata": {},
     "output_type": "execute_result"
    }
   ],
   "source": [
    "sub.head()"
   ]
  },
  {
   "cell_type": "code",
   "execution_count": 23,
   "metadata": {},
   "outputs": [
    {
     "name": "stdout",
     "output_type": "stream",
     "text": [
      "Export File progress: |██████████████████████████████████████████████████████████| (done) 100%\n"
     ]
    }
   ],
   "source": [
    "h2o.export_file(test_h2o[['Item_Identifier','Outlet_Identifier','Item_Outlet_Sales']],'data/prediction.csv')"
   ]
  },
  {
   "cell_type": "code",
   "execution_count": null,
   "metadata": {},
   "outputs": [],
   "source": []
  }
 ],
 "metadata": {
  "interpreter": {
   "hash": "9447d2379600f342e5f1c2d586277c2b06d3cb3053630cf4b2fe4a5219aeb1f3"
  },
  "kernelspec": {
   "display_name": "Python 3.8.8 ('gpu')",
   "language": "python",
   "name": "python3"
  },
  "language_info": {
   "codemirror_mode": {
    "name": "ipython",
    "version": 3
   },
   "file_extension": ".py",
   "mimetype": "text/x-python",
   "name": "python",
   "nbconvert_exporter": "python",
   "pygments_lexer": "ipython3",
   "version": "3.8.8"
  },
  "orig_nbformat": 4
 },
 "nbformat": 4,
 "nbformat_minor": 2
}
